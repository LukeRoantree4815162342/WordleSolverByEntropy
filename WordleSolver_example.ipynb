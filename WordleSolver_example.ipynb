{
 "cells": [
  {
   "cell_type": "code",
   "execution_count": 1,
   "id": "7c271c9a",
   "metadata": {},
   "outputs": [],
   "source": [
    "from WordleInfoTheory import WordleSolver"
   ]
  },
  {
   "cell_type": "code",
   "execution_count": 6,
   "id": "99822724",
   "metadata": {},
   "outputs": [
    {
     "data": {
      "text/plain": [
       "{'aeros': 1.5082435299934922,\n",
       " 'arose': 1.5082435299934922,\n",
       " 'soare': 1.5082435299934922,\n",
       " 'aesir': 1.4801396066853434,\n",
       " 'arise': 1.4801396066853434}"
      ]
     },
     "execution_count": 6,
     "metadata": {},
     "output_type": "execute_result"
    }
   ],
   "source": [
    "solver = WordleSolver()\n",
    "solver.guess(5)"
   ]
  },
  {
   "cell_type": "code",
   "execution_count": 7,
   "id": "75c58a93",
   "metadata": {},
   "outputs": [
    {
     "data": {
      "text/plain": [
       "{'urite': 1.7112774606985548}"
      ]
     },
     "execution_count": 7,
     "metadata": {},
     "output_type": "execute_result"
    }
   ],
   "source": [
    "solver.add_rule('aeros', ['b','y','y','b','b'])\n",
    "solver.guess()"
   ]
  },
  {
   "cell_type": "code",
   "execution_count": 8,
   "id": "96fbe780",
   "metadata": {},
   "outputs": [
    {
     "data": {
      "text/plain": [
       "{'fried': 1.9984829215463167}"
      ]
     },
     "execution_count": 8,
     "metadata": {},
     "output_type": "execute_result"
    }
   ],
   "source": [
    "solver.add_rule('urite', ['b','g','g','b','y'])\n",
    "solver.guess()"
   ]
  },
  {
   "cell_type": "code",
   "execution_count": 9,
   "id": "22ca6815",
   "metadata": {},
   "outputs": [],
   "source": [
    "solver.add_rule('fried', ['g','g','g','g','g'])\n",
    "# The word was fried!"
   ]
  },
  {
   "cell_type": "code",
   "execution_count": 10,
   "id": "e8dcd78a",
   "metadata": {},
   "outputs": [
    {
     "data": {
      "text/plain": [
       "{'spick': 0.9998821930758889,\n",
       " 'trats': 0.9998086203919564,\n",
       " 'linns': 0.999806895384548,\n",
       " 'mtepe': 0.9995414963117152,\n",
       " 'decks': 0.9995376737292686}"
      ]
     },
     "execution_count": 10,
     "metadata": {},
     "output_type": "execute_result"
    }
   ],
   "source": [
    "import numpy as np\n",
    "\n",
    "def example_new_strategy(solver, word):\n",
    "    # I never said it was a good example\n",
    "    return np.random.random()\n",
    "    \n",
    "solver = WordleSolver(strategy=example_new_strategy)\n",
    "solver.guess(5)"
   ]
  },
  {
   "cell_type": "code",
   "execution_count": null,
   "id": "84b2f3bf",
   "metadata": {},
   "outputs": [],
   "source": []
  }
 ],
 "metadata": {
  "kernelspec": {
   "display_name": "Python 3 (ipykernel)",
   "language": "python",
   "name": "python3"
  },
  "language_info": {
   "codemirror_mode": {
    "name": "ipython",
    "version": 3
   },
   "file_extension": ".py",
   "mimetype": "text/x-python",
   "name": "python",
   "nbconvert_exporter": "python",
   "pygments_lexer": "ipython3",
   "version": "3.11.5"
  }
 },
 "nbformat": 4,
 "nbformat_minor": 5
}
