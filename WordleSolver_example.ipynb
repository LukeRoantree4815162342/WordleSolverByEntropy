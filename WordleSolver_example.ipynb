{
 "cells": [
  {
   "cell_type": "code",
   "execution_count": 2,
   "id": "7c271c9a",
   "metadata": {},
   "outputs": [],
   "source": [
    "from WordleInfoTheory import WordleSolver"
   ]
  },
  {
   "cell_type": "code",
   "execution_count": 3,
   "id": "99822724",
   "metadata": {},
   "outputs": [
    {
     "data": {
      "text/plain": [
       "{'aeros': 1.5082435299934924}"
      ]
     },
     "execution_count": 3,
     "metadata": {},
     "output_type": "execute_result"
    }
   ],
   "source": [
    "solver = WordleSolver()\n",
    "solver.guess()"
   ]
  },
  {
   "cell_type": "code",
   "execution_count": 4,
   "id": "75c58a93",
   "metadata": {},
   "outputs": [
    {
     "data": {
      "text/plain": [
       "{'urite': 1.7112774606985548}"
      ]
     },
     "execution_count": 4,
     "metadata": {},
     "output_type": "execute_result"
    }
   ],
   "source": [
    "solver.add_rule('aeros', ['b','y','y','b','b'])\n",
    "solver.guess()"
   ]
  },
  {
   "cell_type": "code",
   "execution_count": 5,
   "id": "96fbe780",
   "metadata": {},
   "outputs": [
    {
     "data": {
      "text/plain": [
       "{'fried': 1.9984829215463167}"
      ]
     },
     "execution_count": 5,
     "metadata": {},
     "output_type": "execute_result"
    }
   ],
   "source": [
    "solver.add_rule('urite', ['b','g','g','b','y'])\n",
    "solver.guess()"
   ]
  },
  {
   "cell_type": "code",
   "execution_count": 6,
   "id": "22ca6815",
   "metadata": {},
   "outputs": [],
   "source": [
    "solver.add_rule('fried', ['g','g','g','g','g'])\n",
    "# The word was fried!"
   ]
  },
  {
   "cell_type": "code",
   "execution_count": null,
   "id": "e8dcd78a",
   "metadata": {},
   "outputs": [],
   "source": []
  }
 ],
 "metadata": {
  "kernelspec": {
   "display_name": "Python 3 (ipykernel)",
   "language": "python",
   "name": "python3"
  },
  "language_info": {
   "codemirror_mode": {
    "name": "ipython",
    "version": 3
   },
   "file_extension": ".py",
   "mimetype": "text/x-python",
   "name": "python",
   "nbconvert_exporter": "python",
   "pygments_lexer": "ipython3",
   "version": "3.11.5"
  }
 },
 "nbformat": 4,
 "nbformat_minor": 5
}
